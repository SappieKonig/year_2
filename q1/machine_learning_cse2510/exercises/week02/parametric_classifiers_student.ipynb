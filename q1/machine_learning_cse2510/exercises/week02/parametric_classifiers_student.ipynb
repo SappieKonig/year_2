{
 "cells": [
  {
   "cell_type": "markdown",
   "source": [
    "# Lab 2: Parametric Classifiers\n",
    "Machine Learning 2020/2021 <br>\n",
    "Ruben Wiersma and David Tax\n",
    "\n",
    "Revised by Yorick de Vries"
   ],
   "metadata": {}
  },
  {
   "cell_type": "markdown",
   "source": [
    "**WHAT** This nonmandatory lab consists of several programming and insight exercises/questions on k-nn density estimation.\r\n",
    "\r\n",
    "**WHY** The exercises are meant to familiarize yourself with the basic concepts of parametric classifiers.\r\n",
    "\r\n",
    "**HOW** Follow the exercises in this notebook either on your own or with a fellow student. If you want to skip right to questions and exercises, find the $\\rightarrow$ symbol.  \r\n",
    "For questions and feedback please consult the TAs during the lab session. \r\n",
    "\r\n",
    "$\\newcommand{\\q}[1]{\\rightarrow \\textbf{Question #1}}$\r\n",
    "$\\newcommand{\\ex}[1]{\\rightarrow \\textbf{Exercise #1}}$"
   ],
   "metadata": {}
  },
  {
   "cell_type": "markdown",
   "source": [
    "## The Bayes classifier\n",
    "\n",
    "In this assignment, you will implement your own Bayes classifier. Because this is your first assignment, we will walk you through the steps from loading and inspecting the data, to running your classifier.\n",
    "\n",
    "Specifically, this assignment consists of the following steps:\n",
    "0. Classification using Gaussian distributions\n",
    "1. Getting to know the data\n",
    "2. Validation sets\n",
    "3. Univariate model\n",
    "4. Probability density function\n",
    "5. Posterior probabilities\n",
    "6. Bayes classifier\n",
    "\n",
    "Work your way through these exercises at your own pace and be sure to ask questions to the TA's when you don't understand something. It's important that you get what is happening here, as it is a fundamental building block of machine learning."
   ],
   "metadata": {}
  },
  {
   "cell_type": "markdown",
   "source": [
    "## 0. Classification using Gaussian distributions\n",
    "\n",
    "We are starting with a very important notion in machine learning: probability distributions. Occurrences of data typically follow probability distributions that we know how to model.\n",
    "\n",
    "Say, you want to classify apples vs. oranges. A _feature_ that you could use to classify them is their colour. We know, of course, that oranges are orange and apples (the golden delicious kind) are green, but each orange is a slightly different shade of orange. Likewise, the apples are all a different shade of green. If we would plot the colour values against the number of fruits with that colour, we would see, however, that there are probably more oranges with a certain type of shade than with other colours. They tend to follow known probability distributions.\n",
    "\n",
    "In this assignment, we will assume data that has a normal distribution and try to estimate the **parameters** of the assumed normal distribution to correctly fit our data, hence the name **parametric classifiers**. We will then use Bayes' rule to build a classifier based on the probability distribution.\n",
    "\n",
    "Just to refresh your mind, this is what a normal distribution looks like:\n",
    "![Normal distribution for oranges](gaussian.png)"
   ],
   "metadata": {}
  },
  {
   "cell_type": "markdown",
   "source": [
    "Instead of apples and oranges, we will try to classify flowers from Fisher's Iris dataset. The dataset contains the measurements of *length* and *width* of the *sepals* and *petals* of 150 flowers. \r\n",
    "\r\n",
    "![Petal and sepal in Iris flowers](Petal-sepal.jpg)\r\n",
    "\r\n",
    "Using the distribution of these 4 features (*length* and *width* of both *sepals* and *petals*), the flowers can then be classified as one of 3 species of Iris flower:\r\n",
    "\r\n",
    "* Iris setosa\r\n",
    "* Iris versicolor\r\n",
    "* Iris virginica\r\n",
    "\r\n",
    "This dataset is such a classic example that it is even included in machine learning libraries. The following code will load the dataset from `scikit-learn` (this was installed with conda) into the variable `iris`.\r\n",
    "\r\n",
    "$\\ex{0.1}$ Run the code and inspect what data is contained in `iris`. Can you identify the 4 attributes? What other information is contained in `iris`?"
   ],
   "metadata": {}
  },
  {
   "cell_type": "code",
   "execution_count": null,
   "source": [
    "import numpy as np\r\n",
    "from sklearn import datasets\r\n",
    "\r\n",
    "iris = datasets.load_iris()\r\n",
    "iris"
   ],
   "outputs": [],
   "metadata": {}
  },
  {
   "cell_type": "markdown",
   "source": [
    "## 1. Getting to know the data\r\n",
    "\r\n",
    "The dataset is stored as a dictionary, a data structure in Python that resembles a Java(script) object. We can access items in the dictionary with a dot `.`, so we access the data and their target labels with `iris.data` and `iris.target`, these are both NumPy arrays. If we want to know what each digit means, we can access the names with `iris.target_names`.\r\n",
    "\r\n",
    "$\\ex{1.1}$ Run the code fragment and confirm what it is doing. Try to understand the indexing and print the following data:\r\n",
    "- The last five flowers. Expected result: an array with shape (5, 4).\r\n",
    "- Only the third feature of each flower. Expected result: an array with shape (150,).\r\n",
    "- The names of the first ten flowers. Expected result: an array with shape (10,).\r\n",
    "- Three separate arrays (one for each class). Expected result: three arrays with shape (50, 4). Try doing this without assuming anything about the indices for each class, i.e.: do not simply use `class1 = iris.data[:50, :]`. You can use `np.where`. This function takes in a boolean statement and returns the indices for which the statement is true. Example use: `np.where(iris.target == 0)` returns all indices where the target label is 0.\r\n",
    "\r\n",
    "__Hint__ Look at the indexing chapter in last week's NumPy lab for help."
   ],
   "metadata": {}
  },
  {
   "cell_type": "code",
   "execution_count": null,
   "source": [
    "print(\"First five flowers: \\n\", iris.data[:5, :])\r\n",
    "print(\"Their labels: \", iris.target[:5])\r\n",
    "print(\"And the label names: \", iris.target_names)\r\n",
    "\r\n",
    "last_five_flowers = None\r\n",
    "third_feature_only = None\r\n",
    "first_ten_names = None\r\n",
    "# START ANSWER\r\n",
    "# END ANSWER\r\n",
    "\r\n",
    "setosa_flowers = None\r\n",
    "versicolor_flowers = None\r\n",
    "virginica_flowers = None\r\n",
    "# START ANSWER\r\n",
    "# END ANSWER\r\n",
    "\r\n",
    "\r\n",
    "print(\"Last five flowers: \\n\", last_five_flowers)\r\n",
    "print(\"Only the third feature: \", third_feature_only)\r\n",
    "print(\"All label names: \", first_ten_names)\r\n",
    " \r\n",
    "print(\"Class: \", iris.target_names[0], \"; Items: \\n\", setosa_flowers)\r\n",
    "\r\n",
    "assert last_five_flowers.shape == (5,4), \"Expected a two dimensional array of shape (5,4)\"\r\n",
    "assert third_feature_only.shape == (150,), \"Expected an array of shape (150,)\"\r\n",
    "assert first_ten_names.shape == (10,), \"Expected an array of shape (10,)\"\r\n",
    "\r\n",
    "assert setosa_flowers.shape == (50,4), \"Expected a two dimensional array of shape (50,4)\"\r\n",
    "assert versicolor_flowers.shape == (50,4), \"Expected a two dimensional array of shape (50,4)\"\r\n",
    "assert virginica_flowers.shape == (50,4), \"Expected a two dimensional array of shape (50,4)\""
   ],
   "outputs": [],
   "metadata": {}
  },
  {
   "cell_type": "markdown",
   "source": [
    "Next, to get an idea of the distribution of our data, we can make plots.\n",
    "\n",
    "$\\ex{1.2}$ Run the following code to plot the petal length and width of each flower as a scatterplot. Inspect the code carefully, as you will need to write your own code for plotting later on."
   ],
   "metadata": {}
  },
  {
   "cell_type": "code",
   "execution_count": null,
   "source": [
    "# From the Matplotlib library, import pyplot. We will refer to this library later as plt.\r\n",
    "# This is a widely used library that lets you create images and plot your data.\r\n",
    "from matplotlib import pyplot as plt\r\n",
    "\r\n",
    "# Create a scatterplot of the first two features, and use their labels as colour values.\r\n",
    "plt.scatter(iris.data[:, 0], iris.data[:, 1], c=iris.target)\r\n",
    "plt.xlabel(iris.feature_names[0])\r\n",
    "plt.ylabel(iris.feature_names[1])\r\n",
    "plt.show()\r\n",
    "# Create a scatterplot of the third and fourth feature.\r\n",
    "plt.scatter(iris.data[:, 2], iris.data[:, 3], c=iris.target)\r\n",
    "plt.xlabel(iris.feature_names[2])\r\n",
    "plt.ylabel(iris.feature_names[3])\r\n",
    "plt.show()"
   ],
   "outputs": [],
   "metadata": {}
  },
  {
   "cell_type": "markdown",
   "source": [
    "$\\q{1.1}$ How are the points distributed? Could you fit a probability distribution that you know on this data (e.g. uniform, normal, etc.)?"
   ],
   "metadata": {}
  },
  {
   "cell_type": "markdown",
   "source": [
    "## 2. Test sets\n",
    "\n",
    "Now that we have an idea what our dataset looks like, our goal is to create a model that will predict the class of each flower based on its features. In order to evaluate how well the model fits, we will also need a separate test set where we can evaluate our final model on. For this, we will split the data randomly in a train and test set.\n",
    "\n",
    "$\\ex{2.1}$ Use the code below to split the dataset into a train and validation set."
   ],
   "metadata": {}
  },
  {
   "cell_type": "code",
   "execution_count": null,
   "source": [
    "from sklearn.model_selection import train_test_split #to split in train and test set\r\n",
    "\r\n",
    "# load the data and create the training and test sets\r\n",
    "iris = datasets.load_iris()\r\n",
    "# X is the feature vectors for the data points, and Y is the target (ground truth) class for those data points \r\n",
    "# the iris.data and iris.target entries are randomly divided into training and test sets.\r\n",
    "X_train, X_test, Y_train, Y_test = train_test_split(iris.data, iris.target, test_size=0.3, random_state=20)\r\n",
    "\r\n",
    "# Due to the randomness of the split, number of each flowers is not necessarily the same\r\n",
    "# Separate the training dataset into the three flower types.\r\n",
    "setosa_X_train = None\r\n",
    "versicolor_X_train = None\r\n",
    "virginica_X_train = None\r\n",
    "# START ANSWER\r\n",
    "# END ANSWER\r\n",
    "\r\n",
    "assert setosa_X_train.shape[0] != versicolor_X_train.shape[0]\r\n",
    "assert setosa_X_train.shape[0] != virginica_X_train.shape[0]\r\n",
    "assert versicolor_X_train.shape[0] != virginica_X_train.shape[0]\r\n",
    "\r\n",
    "setosa_X_train.shape, versicolor_X_train.shape, virginica_X_train.shape"
   ],
   "outputs": [],
   "metadata": {}
  },
  {
   "cell_type": "markdown",
   "source": [
    "## 3. Univariate model\n",
    "\n",
    "Looking at the plots of the data from the previous section, you might assume that separating the different classes would be a lot easier based on the petal data (3rd and 4th variable) than on the sepal data (1st and 2nd variable), as it is easier to distinguish the different clusters in that plot. In fact, for now we will only focus on one variable, the petal length (3rd feature), as it looks like it might be useful just on its own and this will simplify the model a lot."
   ],
   "metadata": {}
  },
  {
   "cell_type": "code",
   "execution_count": null,
   "source": [
    "# We use the third feature\r\n",
    "feature_idx = 2"
   ],
   "outputs": [],
   "metadata": {}
  },
  {
   "cell_type": "markdown",
   "source": [
    "Let's first take a look at the distribution of all flowers (both train and test) along this feature to confirm that our assumption of a normal distribution is correct. Take a look at the ditribution of the other features as well."
   ],
   "metadata": {}
  },
  {
   "cell_type": "code",
   "execution_count": null,
   "source": [
    "plt.hist(setosa_flowers[:,feature_idx], label=iris.target_names[0])\r\n",
    "plt.hist(versicolor_flowers[:,feature_idx], label=iris.target_names[1])\r\n",
    "plt.hist(virginica_flowers[:,feature_idx], label=iris.target_names[2])\r\n",
    "plt.xlabel(iris.feature_names[feature_idx])\r\n",
    "plt.ylabel('Number of flowers')\r\n",
    "plt.legend()\r\n",
    "plt.show()"
   ],
   "outputs": [],
   "metadata": {}
  },
  {
   "cell_type": "markdown",
   "source": [
    "That looks about correct! Now, let's find the parameters of the normal distribution that describe our data best. The parameters that we need to describe the distribution are the _mean_ and _standard deviation_.\n",
    "\n",
    "$\\ex{3.1}$ Using the training data from each of 3 classes, compute the mean ($\\mu$) and standard deviation ($\\sigma$) for the *petal length* attribute. The Maximum Likelihood Estimators for these are given by\n",
    "\n",
    "(3.1) $$\\mu = \\frac{\\sum_{t=1}^Nx^t}{N}$$\n",
    "\n",
    "(3.2) $$\\sigma = \\sqrt{\\frac{\\sum_{t=1}^N(x^t - m)^2}{N}}$$\n",
    "\n",
    "__Hint__ Try to use numpy's functions to perform operations on your input (e.g. `np.sum`, `np.sqrt`)"
   ],
   "metadata": {}
  },
  {
   "cell_type": "code",
   "execution_count": null,
   "source": [
    "def compute_mean(x):\r\n",
    "    mean = 0\r\n",
    "    # START ANSWER\r\n",
    "    # END ANSWER\r\n",
    "    return mean\r\n",
    "    \r\n",
    "def compute_sd(x, mean):\r\n",
    "    sd = 0\r\n",
    "    # START ANSWER\r\n",
    "    # END ANSWER\r\n",
    "    return sd\r\n",
    "\r\n",
    "# Compute the mean for each flower type.\r\n",
    "mean_setosa = compute_mean(setosa_X_train[:, feature_idx])\r\n",
    "mean_versicolor = compute_mean(versicolor_X_train[:, feature_idx])\r\n",
    "mean_virginica = compute_mean(virginica_X_train[:, feature_idx])\r\n",
    "\r\n",
    "# Compute the standard deviation for each flower type.\r\n",
    "sd_setosa = compute_sd(setosa_X_train[:, feature_idx], mean_setosa)\r\n",
    "sd_versicolor = compute_sd(versicolor_X_train[:, feature_idx], mean_versicolor)\r\n",
    "sd_virginica = compute_sd(virginica_X_train[:, feature_idx], mean_virginica)\r\n",
    "\r\n",
    "# Print the computed means and standard deviations.\r\n",
    "print(\"setosa\", mean_setosa, sd_setosa)\r\n",
    "print(\"versicolor\", mean_versicolor, sd_versicolor)\r\n",
    "print(\"virginica\", mean_virginica, sd_virginica)\r\n",
    "\r\n",
    "assert np.isclose(mean_setosa, 1.4729729729729728), \"Expected a different mean\"\r\n",
    "assert np.isclose(mean_versicolor, 4.25), \"Expected a different mean\"\r\n",
    "assert np.isclose(mean_virginica, 5.572222222222222), \"Expected a different mean\"\r\n",
    "\r\n",
    "assert np.isclose(sd_setosa, 0.17652600857089654), \"Expected a different standard deviation\"\r\n",
    "assert np.isclose(sd_versicolor, 0.44300112866673375), \"Expected a different standard deviation\"\r\n",
    "assert np.isclose(sd_virginica, 0.547017728288333), \"Expected a different standard deviation\""
   ],
   "outputs": [],
   "metadata": {}
  },
  {
   "cell_type": "markdown",
   "source": [
    "$\\q{3.1}$ Do these mean values and standard deviations correspond to the histograms that we plotted? If not, try to fix your code."
   ],
   "metadata": {}
  },
  {
   "cell_type": "markdown",
   "source": [
    "## 4. Probability density function\n",
    "\n",
    "The probability density function for a Gaussian distribution is defined as\n",
    "\n",
    "(4.1) $$p(x|\\mu, \\sigma)=\\frac{1}{\\sqrt{2\\pi\\sigma^2}} e^{-\\frac{(x - \\mu)^2}{2\\sigma^2}}$$\n",
    "\n",
    "That means that if we have estimates for $\\mu$ and $\\sigma$, we can compute the probability density for a specific value $x$.\n",
    "\n",
    "$\\ex{4.1}$ Implement the `normal_PDF` function below. Given `x`, `mean`, and `sd`, we want to return the result of $p(x|\\mu, \\sigma)$. Your PDF is plotted. You can play around with different configurations of `mean` and `sd` to see how these parameters influence your normal distribution.\n",
    "\n",
    "**NOTE:** This normal distribution should look similar to the normal distribution at chapter 0. (This normal distribution does have a different mean and standard deviation)."
   ],
   "metadata": {}
  },
  {
   "cell_type": "code",
   "execution_count": null,
   "source": [
    "from scipy.stats import norm\r\n",
    "\r\n",
    "def normal_PDF(x, mean, sd):\r\n",
    "    pdf = 0\r\n",
    "    # START ANSWER\r\n",
    "    # END ANSWER\r\n",
    "    return pdf\r\n",
    "\r\n",
    "# Set x, mean and standard deviation\r\n",
    "x = 0.5\r\n",
    "mean = 2\r\n",
    "sd = 0.5\r\n",
    "my_pdf = normal_PDF(x, mean, sd)\r\n",
    "\r\n",
    "# You can compare your outcome to scipy's built-in normal PDF\r\n",
    "scipy_pdf = norm.pdf(x, mean, sd)\r\n",
    "print(\"Your pdf function outcome: \", my_pdf, \" Scipy's function outcome: \", scipy_pdf)\r\n",
    "assert np.isclose(my_pdf, scipy_pdf)\r\n",
    "\r\n",
    "# And we plot the result of your PDF function for 100 points between 0 and 4: np.linspace(0, 4, 100)\r\n",
    "xs = np.linspace(0, 4, 100)\r\n",
    "plt.plot(xs, normal_PDF(xs, mean, sd))\r\n",
    "plt.show()"
   ],
   "outputs": [],
   "metadata": {}
  },
  {
   "cell_type": "markdown",
   "source": [
    "We already made estimates for $\\mu$ and $\\sigma$ for the *petal length* for each of the 3 classes, so we can now also define PDFs for each separate class.\n",
    "\n",
    "$\\ex{4.2}$ Plot the 3 functions using [linspace](https://docs.scipy.org/doc/numpy-1.10.0/reference/generated/numpy.linspace.html) for a range of x-values aside the histograms of the classes."
   ],
   "metadata": {}
  },
  {
   "cell_type": "code",
   "execution_count": null,
   "source": [
    "# Histograms of the flower types of the training set\r\n",
    "plt.hist(setosa_X_train[:,feature_idx], label=iris.target_names[0])\r\n",
    "plt.hist(versicolor_X_train[:,feature_idx], label=iris.target_names[1])\r\n",
    "plt.hist(virginica_X_train[:,feature_idx], label=iris.target_names[2])\r\n",
    "\r\n",
    "# Plot your PDFs here\r\n",
    "xs = np.linspace(0, 7, 100)\r\n",
    "# START ANSWER\r\n",
    "# END ANSWER\r\n",
    "\r\n",
    "plt.xlabel(iris.feature_names[feature_idx])\r\n",
    "plt.ylabel('Number of flowers / PDF')\r\n",
    "plt.legend()\r\n",
    "plt.show()"
   ],
   "outputs": [],
   "metadata": {}
  },
  {
   "cell_type": "markdown",
   "source": [
    "$\\q{4.1}$ Do your distributions and the histogram overlap? In what ways are the histogram and the probability distributions different?\n",
    "\n",
    "__Hint__ The histogram shows the number of flowers that have a petal length within a certain window (bin). That means the values shown in the histogram are absolute counts."
   ],
   "metadata": {}
  },
  {
   "cell_type": "markdown",
   "source": [
    "## 5. Posterior probabilities\n",
    "\n",
    "The plot above shows the probability densities for a feature $x$. For a normal distributed feature of a class $C_i$, you only need to know the mean and the standard deviation to be able to determine the probability of obtaining that data point $x$, i.e. $p(x | \\mu_i, \\sigma_i)$ or $p(x | C_i)$. So, $p(x | C_i)$ is the probability density of observing $x$ knowing that the datapoint comes from $C_i$.\n",
    "\n",
    "- The prior probabillity is the probability density of a certain class $C_i$, without having any observations (knowledge); $p(C_i)$.\n",
    "- The posterior probabillity is the probability density of a certain class $C_i$, knowing a datapoint $x$ you observed; $p(C_i | x)$.\n",
    "\n",
    "$\\q{5.1}$ Stop for a moment to try and understand what this probability means: $p(x | C_i)$.\n",
    "\n",
    "__Hint__ The $|$ sign in $p(x | C_i)$ means: given that.\n",
    "\n",
    "\n",
    "However, what would be useful for classification, is the posterior probabilities of the classes given the data, i.e. $P(C_i | x)$.\n",
    "\n",
    "$\\q{5.2}$ Can you explain this mathematical formulation in your own words?\n",
    "\n",
    "$\\q{5.3}$ Why is it helpful to know the posterior probability?\n",
    "\n",
    "__Hint__ What information do we have for test points coming in?\n",
    "\n",
    "\n",
    "To get the posterior probability, we can use Bayes' rule:\n",
    "\n",
    "(5.1) $$P(C_i | x) =  \\frac{p(x | C_i) P(C_i)}{p(x)} = \\frac{p(x | C_i) P(C_i)}{\\sum_{k=1}^K p(x | C_k) P(C_k)}$$\n",
    "\n",
    "We will construct our classifier such that, after observing a datapoint $x$, we assign the point to the class $C_i$ with the higest $P(C_i | x)$, so to the class which is most likely.\n",
    "\n",
    "$\\ex{5.1}$ Finish the code to compute the posterior probability of a point $x$, given the mean, standard deviation, and class index.\n",
    "\n",
    "__Hint__ The mean and standard deviation are given as arrays. You can access the mean for class `i` with `mean[i]`."
   ],
   "metadata": {}
  },
  {
   "cell_type": "code",
   "execution_count": null,
   "source": [
    "def posterior(x, means, sds, priors, i):\r\n",
    "    \"\"\"\r\n",
    "    Compute the posterior probability P(C_i | x).\r\n",
    "    :param x: the sample to compute the posterior probability for.\r\n",
    "    :param means: an array of means for each class.\r\n",
    "    :param sds: an array of standard deviation values for each class.\r\n",
    "    :param priors: an array of frequencies for each class.\r\n",
    "    :param i: the index of the class to compute the posterior probability for.\r\n",
    "    \"\"\"\r\n",
    "    posterior = 0\r\n",
    "    # START ANSWER\r\n",
    "    #END ANSWER\r\n",
    "    return posterior\r\n",
    "\r\n",
    "means = [mean_setosa, mean_versicolor, mean_virginica]\r\n",
    "sds = [sd_setosa, sd_versicolor, sd_virginica]\r\n",
    "priors = [\r\n",
    "    setosa_X_train.shape[0]/X_train.shape[0],\r\n",
    "    versicolor_X_train.shape[0]/X_train.shape[0],\r\n",
    "    virginica_X_train.shape[0]/X_train.shape[0]\r\n",
    "]\r\n",
    "\r\n",
    "# Test out the code\r\n",
    "flower_idx = 6\r\n",
    "print(\"Flower belongs to class\", iris.target_names[Y_train[flower_idx]])\r\n",
    "\r\n",
    "# iterate over all classes\r\n",
    "for i in range(3):\r\n",
    "    x_post = posterior(X_train[flower_idx, feature_idx], means, sds, priors, i)\r\n",
    "    print(\"Posterior probability for class\", iris.target_names[i], \": \", x_post)\r\n",
    "\r\n",
    "post_setosa = posterior(X_train[flower_idx, feature_idx], means, sds, priors, 0)\r\n",
    "post_versicolor = posterior(X_train[flower_idx, feature_idx], means, sds, priors, 1)\r\n",
    "post_virginica = posterior(X_train[flower_idx, feature_idx], means, sds, priors, 2)\r\n",
    "\r\n",
    "assert np.isclose(post_setosa, 1.1048294835009998e-107, rtol = 0.0001, atol = 0.), \"Expected a different posterior probability\"\r\n",
    "assert np.isclose(post_versicolor, 0.03817178391547811, rtol = 0.0001, atol = 0.), \"Expected a different posterior probability\"\r\n",
    "assert np.isclose(post_virginica, 0.9618282160845218, rtol = 0.0001, atol = 0.), \"Expected a different posterior probability\""
   ],
   "outputs": [],
   "metadata": {}
  },
  {
   "cell_type": "markdown",
   "source": [
    "$\\ex{5.2}$ Plot the posterior probabilities for all 3 classes. Does the plot of these 3 posteriors make sense based on the data?"
   ],
   "metadata": {}
  },
  {
   "cell_type": "code",
   "execution_count": null,
   "source": [
    "xs = np.linspace(0, 7, 100)\r\n",
    "# START ANSWER\r\n",
    "# END ANSWER\r\n",
    "plt.xlabel(iris.feature_names[feature_idx])\r\n",
    "plt.ylabel('Posterior probability')\r\n",
    "plt.legend()\r\n",
    "plt.show()"
   ],
   "outputs": [],
   "metadata": {}
  },
  {
   "cell_type": "markdown",
   "source": [
    "$\\q{5.4}$ Where would you put the decision boundary for each class? In other words: where would you draw the line, separating each class. Could you formulate this mathematically?"
   ],
   "metadata": {}
  },
  {
   "cell_type": "markdown",
   "source": [
    "## 6. Bayes Classifier\n",
    "\n",
    "Now that we can compute the posteriors for every class, constructing a classifier is easy. The Bayes classifier is defined as\n",
    "\n",
    "- Classify as $C_i$ for which: $i = argmax_i\\ P(C_i |x)$\n",
    "\n",
    "$\\ex{6.1}$ Write the code for the `classify` function. It should classify a single data point $x$ as one of the 3 classes, returning $0$, $1$ or $2$ based on the class the flower is most likely to belong to. The other arguments of the function should therefore be the vector of mean estimates `means` and the vector of standard deviation estimates `sds`, the class distribution `priors` and index `i` corresponds to class $C_i$."
   ],
   "metadata": {}
  },
  {
   "cell_type": "code",
   "execution_count": null,
   "source": [
    "def classify(x, means, sds, priors):\r\n",
    "    classification = -1\r\n",
    "    # START ANSWER\r\n",
    "    # END ANSWER\r\n",
    "    return classification\r\n",
    "\r\n",
    "# Test out the code\r\n",
    "flower_idxs = [5,20,30]\r\n",
    "predicted_classes = np.zeros(3, dtype=np.int64)\r\n",
    "for i, flower_idx in enumerate(flower_idxs):\r\n",
    "    predicted_classes[i] = classify(X_train[flower_idx, feature_idx], means, sds, priors)\r\n",
    "\r\n",
    "print(\"Predicted class\", iris.target_names[predicted_classes])\r\n",
    "print(\"Flower belongs to class\", iris.target_names[Y_train[flower_idxs]])\r\n",
    "assert (predicted_classes == Y_train[flower_idxs]).all()"
   ],
   "outputs": [],
   "metadata": {}
  },
  {
   "cell_type": "markdown",
   "source": [
    "$\\ex{6.2}$ Finally, complete the `evaluate` function below. It should take a test set, the expected classes (ground truth; correct classifications of each element in the test set) and the vectors `means`, `sds` and `priors`. The function calculates the classifications (decides which class each point belongs to) based on the distributions learnt from the training set. The function should return the percentage of elements in the test set that were classified correctly.\r\n",
    "\r\n",
    "**Note** We only use the testset now to be able to make an unbiased estimation of the quality of the classifier. If we would include the testset in our training data, the evaluation would not be fair as knowledge of the test data would be included in the model.\r\n",
    "\r\n",
    "__Hint__ You will only need to use the *petal length* variable from each data point to attempt to classify it (since that is how we trained our model)."
   ],
   "metadata": {}
  },
  {
   "cell_type": "code",
   "execution_count": null,
   "source": [
    "def evaluate(X_test, Y_test, means, sds, priors):\r\n",
    "    accuracy = 0\r\n",
    "    # START ANSWER\r\n",
    "    # END ANSWER\r\n",
    "    return accuracy\r\n",
    "\r\n",
    "accuracy = evaluate(X_test[:, feature_idx], Y_test, means, sds, priors)\r\n",
    "\r\n",
    "print(accuracy)\r\n",
    "assert accuracy > 0.9, \"Expected a higher accuracy\""
   ],
   "outputs": [],
   "metadata": {}
  },
  {
   "cell_type": "markdown",
   "source": [
    "Let's return to our scatterplots and see how your classifier makes decisions. For this, we also plot the decision boundary. The function to create the decision boundaries does this in a very simple way:\r\n",
    "- For each class, compute the posterior for 1000 points between 1 and 7\r\n",
    "- If for any two classes the posteriors are as good as equal (and not very close to 0) at a point, add that point to the list of decision boundaries\r\n",
    "- Plot vertical lines at these points\r\n",
    "\r\n",
    "$\\q{6.1}$ This method is quite complicated. Could you analytically solve the equations?\r\n",
    "\r\n",
    "__Hint__ You have to find the $x$ for which the class probabilities are equal. You can formulate this equality with the probability functions and solve that equation."
   ],
   "metadata": {}
  },
  {
   "cell_type": "code",
   "execution_count": null,
   "source": [
    "def decision_boundary(means, sds, priors):\r\n",
    "    decision_boundaries = []\r\n",
    "    # START ANSWER\r\n",
    "    # END ANSWER\r\n",
    "    return decision_boundaries\r\n",
    "\r\n",
    "# Create a scatterplot of the third and fourth feature.\r\n",
    "feature_idx2 = 3\r\n",
    "\r\n",
    "plt.scatter(iris.data[:, feature_idx], iris.data[:, feature_idx2], c=iris.target)\r\n",
    "plt.xlabel(iris.feature_names[feature_idx])\r\n",
    "plt.ylabel(iris.feature_names[feature_idx2])\r\n",
    "decision_boundaries = decision_boundary(means, sds, priors)\r\n",
    "for boundary in decision_boundaries:\r\n",
    "    plt.axvline(x=boundary)\r\n",
    "\r\n",
    "plt.show()"
   ],
   "outputs": [],
   "metadata": {}
  },
  {
   "cell_type": "markdown",
   "source": [
    "$\\q{6.2}$ You have now successfully implemented a Bayes-classifier. Try to change the feature used in the classifier `feature_idx` and see how it affects the performance. Was the choice of petal width a good choice? And was there another feature which performs good as well?"
   ],
   "metadata": {}
  }
 ],
 "metadata": {
  "kernelspec": {
   "display_name": "Python 3",
   "language": "python",
   "name": "python3"
  },
  "language_info": {
   "codemirror_mode": {
    "name": "ipython",
    "version": 3
   },
   "file_extension": ".py",
   "mimetype": "text/x-python",
   "name": "python",
   "nbconvert_exporter": "python",
   "pygments_lexer": "ipython3",
   "version": "3.7.6"
  }
 },
 "nbformat": 4,
 "nbformat_minor": 2
}